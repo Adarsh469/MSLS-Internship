{
 "cells": [
  {
   "cell_type": "markdown",
   "id": "b756285f",
   "metadata": {},
   "source": [
    "# Normal model"
   ]
  },
  {
   "cell_type": "code",
   "execution_count": 30,
   "id": "8392119f",
   "metadata": {},
   "outputs": [],
   "source": [
    "import pandas as pd\n",
    "import numpy as np\n",
    "from sklearn.model_selection import train_test_split\n",
    "from sklearn.preprocessing import StandardScaler\n",
    "from sklearn.utils.class_weight import compute_class_weight\n",
    "import tensorflow as tf\n",
    "from tensorflow import keras\n",
    "from tensorflow.keras import layers"
   ]
  },
  {
   "cell_type": "code",
   "execution_count": 31,
   "id": "eeeefbae",
   "metadata": {},
   "outputs": [],
   "source": [
    "df = pd.read_csv(\"her2_all_features.csv\")  \n",
    "\n",
    "# Drop filename and target column\n",
    "X = df.drop(columns=[\"tile\", \"label\"])\n",
    "y = df[\"label\"]\n",
    "\n",
    "# Train-test split\n",
    "X_train, X_test, y_train, y_test = train_test_split(X, y, test_size=0.2, random_state=42)\n",
    "\n",
    "# Scale features\n",
    "scaler = StandardScaler()\n",
    "X_train_scaled = scaler.fit_transform(X_train)\n",
    "X_test_scaled = scaler.transform(X_test)\n"
   ]
  },
  {
   "cell_type": "code",
   "execution_count": 32,
   "id": "05ce4e9f",
   "metadata": {},
   "outputs": [
    {
     "name": "stdout",
     "output_type": "stream",
     "text": [
      "Class weights: {np.int64(0): np.float64(0.7491548343475322), np.int64(1): np.float64(1.503392130257802)}\n"
     ]
    }
   ],
   "source": [
    "class_weights = compute_class_weight(class_weight=\"balanced\", classes=np.unique(y_train), y=y_train)\n",
    "class_weights_dict = dict(zip(np.unique(y_train), class_weights))\n",
    "print(\"Class weights:\", class_weights_dict)"
   ]
  },
  {
   "cell_type": "markdown",
   "id": "4741ca0e",
   "metadata": {},
   "source": [
    "# Random Forest"
   ]
  },
  {
   "cell_type": "code",
   "execution_count": 33,
   "id": "d7fb9340",
   "metadata": {},
   "outputs": [],
   "source": [
    "import pandas as pd\n",
    "from sklearn.model_selection import train_test_split\n",
    "from sklearn.preprocessing import StandardScaler\n",
    "\n",
    "# Load your combined feature dataset\n",
    "df = pd.read_csv(\"her2_all_features.csv\")  # or \"her2_all_combined_features.csv\" if you had all features\n",
    "\n",
    "# Drop unnecessary columns and split\n",
    "X = df.drop(columns=[\"tile\", \"label\"])\n",
    "y = df[\"label\"]\n",
    "\n",
    "# Train/Test split\n",
    "X_train, X_test, y_train, y_test = train_test_split(\n",
    "    X, y, test_size=0.25, stratify=y, random_state=42\n",
    ")\n",
    "\n",
    "# Scale the features (important for SVM)\n",
    "scaler = StandardScaler()\n",
    "X_train_scaled = scaler.fit_transform(X_train)\n",
    "X_test_scaled = scaler.transform(X_test)\n"
   ]
  },
  {
   "cell_type": "code",
   "execution_count": 34,
   "id": "94fc9050",
   "metadata": {},
   "outputs": [
    {
     "name": "stdout",
     "output_type": "stream",
     "text": [
      "Random Forest Confusion Matrix:\n",
      "[[869  51]\n",
      " [398  67]]\n",
      "\n",
      "Classification Report:\n",
      "              precision    recall  f1-score   support\n",
      "\n",
      "       HER2−       0.69      0.94      0.79       920\n",
      "       HER2+       0.57      0.14      0.23       465\n",
      "\n",
      "    accuracy                           0.68      1385\n",
      "   macro avg       0.63      0.54      0.51      1385\n",
      "weighted avg       0.65      0.68      0.61      1385\n",
      "\n"
     ]
    }
   ],
   "source": [
    "from sklearn.ensemble import RandomForestClassifier\n",
    "from sklearn.metrics import classification_report, confusion_matrix\n",
    "\n",
    "rf = RandomForestClassifier(n_estimators=100, random_state=42)\n",
    "rf.fit(X_train, y_train)\n",
    "\n",
    "y_pred_rf = rf.predict(X_test)\n",
    "\n",
    "print(\"Random Forest Confusion Matrix:\")\n",
    "print(confusion_matrix(y_test, y_pred_rf))\n",
    "\n",
    "print(\"\\nClassification Report:\")\n",
    "print(classification_report(y_test, y_pred_rf, target_names=[\"HER2−\", \"HER2+\"]))\n"
   ]
  },
  {
   "cell_type": "markdown",
   "id": "c015529b",
   "metadata": {},
   "source": [
    "# Cross validstion"
   ]
  },
  {
   "cell_type": "code",
   "execution_count": 35,
   "id": "f1771643",
   "metadata": {},
   "outputs": [],
   "source": [
    "import pandas as pd\n",
    "from sklearn.model_selection import StratifiedKFold\n",
    "from sklearn.preprocessing import StandardScaler\n",
    "\n",
    "# Load your features\n",
    "df = pd.read_csv(\"her2_all_features.csv\")  # or combined CSV if using all features\n",
    "\n",
    "# Separate X and y\n",
    "X = df.drop(columns=[\"tile\", \"label\"])\n",
    "y = df[\"label\"]\n",
    "\n",
    "# Scale features\n",
    "scaler = StandardScaler()\n",
    "X_scaled = scaler.fit_transform(X)"
   ]
  },
  {
   "cell_type": "code",
   "execution_count": 36,
   "id": "5e629760",
   "metadata": {},
   "outputs": [
    {
     "name": "stdout",
     "output_type": "stream",
     "text": [
      "Confusion Matrix:\n",
      "[[3485  195]\n",
      " [1551  309]]\n",
      "\n",
      "Classification Report:\n",
      "              precision    recall  f1-score   support\n",
      "\n",
      "       HER2−       0.69      0.95      0.80      3680\n",
      "       HER2+       0.61      0.17      0.26      1860\n",
      "\n",
      "    accuracy                           0.68      5540\n",
      "   macro avg       0.65      0.56      0.53      5540\n",
      "weighted avg       0.67      0.68      0.62      5540\n",
      "\n"
     ]
    }
   ],
   "source": [
    "from sklearn.ensemble import RandomForestClassifier\n",
    "from sklearn.model_selection import cross_val_score, cross_val_predict\n",
    "from sklearn.metrics import classification_report, confusion_matrix\n",
    "\n",
    "# Create Random Forest classifier\n",
    "rf = RandomForestClassifier(n_estimators=100, random_state=42)\n",
    "\n",
    "# Stratified K-Fold Cross-Validation\n",
    "skf = StratifiedKFold(n_splits=5, shuffle=True, random_state=42)\n",
    "\n",
    "# Cross-validated predictions\n",
    "y_pred = cross_val_predict(rf, X_scaled, y, cv=skf)\n",
    "\n",
    "# Evaluate\n",
    "print(\"Confusion Matrix:\")\n",
    "print(confusion_matrix(y, y_pred))\n",
    "\n",
    "print(\"\\nClassification Report:\")\n",
    "print(classification_report(y, y_pred, target_names=[\"HER2−\", \"HER2+\"]))"
   ]
  },
  {
   "cell_type": "code",
   "execution_count": 38,
   "id": "a875e530",
   "metadata": {},
   "outputs": [
    {
     "name": "stdout",
     "output_type": "stream",
     "text": [
      "After SMOTE: [3680 3680]\n",
      "Confusion Matrix:\n",
      "[[804 116]\n",
      " [331 134]]\n",
      "\n",
      "Classification Report:\n",
      "              precision    recall  f1-score   support\n",
      "\n",
      "       HER2−       0.71      0.87      0.78       920\n",
      "       HER2+       0.54      0.29      0.37       465\n",
      "\n",
      "    accuracy                           0.68      1385\n",
      "   macro avg       0.62      0.58      0.58      1385\n",
      "weighted avg       0.65      0.68      0.65      1385\n",
      "\n"
     ]
    }
   ],
   "source": [
    "from imblearn.over_sampling import SMOTE\n",
    "\n",
    "smote = SMOTE(random_state=42)\n",
    "X_resampled, y_resampled = smote.fit_resample(X_scaled, y)\n",
    "\n",
    "print(\"After SMOTE:\", np.bincount(y_resampled))\n",
    "\n",
    "from sklearn.model_selection import train_test_split\n",
    "\n",
    "# Original split before SMOTE\n",
    "X_train, X_test, y_train, y_test = train_test_split(\n",
    "    X_scaled, y, test_size=0.25, stratify=y, random_state=42\n",
    ")\n",
    "\n",
    "# Now apply SMOTE only to training data\n",
    "smote = SMOTE(random_state=42)\n",
    "X_train_resampled, y_train_resampled = smote.fit_resample(X_train, y_train)\n",
    "\n",
    "# Train RF on resampled training data\n",
    "rf = RandomForestClassifier(n_estimators=100, random_state=42)\n",
    "rf.fit(X_train_resampled, y_train_resampled)\n",
    "\n",
    "# Evaluate on untouched test data\n",
    "y_pred = rf.predict(X_test)\n",
    "\n",
    "from sklearn.metrics import confusion_matrix, classification_report\n",
    "print(\"Confusion Matrix:\")\n",
    "print(confusion_matrix(y_test, y_pred))\n",
    "print(\"\\nClassification Report:\")\n",
    "print(classification_report(y_test, y_pred, target_names=[\"HER2−\", \"HER2+\"]))\n"
   ]
  },
  {
   "cell_type": "code",
   "execution_count": 39,
   "id": "73fcc887",
   "metadata": {},
   "outputs": [
    {
     "name": "stdout",
     "output_type": "stream",
     "text": [
      "              precision    recall  f1-score   support\n",
      "\n",
      "       HER2−       0.71      0.87      0.78       920\n",
      "       HER2+       0.54      0.29      0.37       465\n",
      "\n",
      "    accuracy                           0.68      1385\n",
      "   macro avg       0.62      0.58      0.58      1385\n",
      "weighted avg       0.65      0.68      0.65      1385\n",
      "\n"
     ]
    }
   ],
   "source": [
    "from sklearn.model_selection import GridSearchCV\n",
    "\n",
    "param_grid = {\n",
    "    'n_estimators': [50, 100],  # instead of [100, 200, 300]\n",
    "    'max_depth': [None, 10],\n",
    "    'min_samples_split': [2, 5],\n",
    "    'class_weight': ['balanced']\n",
    "}\n",
    "\n",
    "\n",
    "grid = GridSearchCV(RandomForestClassifier(random_state=42),\n",
    "                    param_grid, cv=3, scoring='f1_macro', n_jobs=1)\n",
    "grid.fit(X_train_resampled, y_train_resampled)\n",
    "\n",
    "best_model = grid.best_estimator_\n",
    "y_pred = best_model.predict(X_test)\n",
    "\n",
    "print(classification_report(y_test, y_pred, target_names=[\"HER2−\", \"HER2+\"]))\n"
   ]
  },
  {
   "cell_type": "markdown",
   "id": "5671ad6c",
   "metadata": {},
   "source": [
    "# Feature Selection"
   ]
  },
  {
   "cell_type": "code",
   "execution_count": 40,
   "id": "fd35a599",
   "metadata": {},
   "outputs": [
    {
     "name": "stdout",
     "output_type": "stream",
     "text": [
      "Selected shape: (5540, 1000)\n"
     ]
    }
   ],
   "source": [
    "from sklearn.feature_selection import SelectKBest, f_classif\n",
    "\n",
    "# Select top 1000 features\n",
    "selector = SelectKBest(score_func=f_classif, k=1000)\n",
    "X_selected = selector.fit_transform(X_scaled, y)\n",
    "\n",
    "print(\"Selected shape:\", X_selected.shape)"
   ]
  },
  {
   "cell_type": "code",
   "execution_count": 41,
   "id": "5a57100a",
   "metadata": {},
   "outputs": [
    {
     "name": "stdout",
     "output_type": "stream",
     "text": [
      "Confusion Matrix:\n",
      "[[770 150]\n",
      " [302 163]]\n",
      "\n",
      "Classification Report:\n",
      "              precision    recall  f1-score   support\n",
      "\n",
      "       HER2−       0.72      0.84      0.77       920\n",
      "       HER2+       0.52      0.35      0.42       465\n",
      "\n",
      "    accuracy                           0.67      1385\n",
      "   macro avg       0.62      0.59      0.60      1385\n",
      "weighted avg       0.65      0.67      0.65      1385\n",
      "\n"
     ]
    }
   ],
   "source": [
    "from sklearn.model_selection import train_test_split\n",
    "from imblearn.over_sampling import SMOTE\n",
    "from sklearn.ensemble import RandomForestClassifier\n",
    "from sklearn.metrics import classification_report, confusion_matrix\n",
    "\n",
    "# Train/Test split\n",
    "X_train, X_test, y_train, y_test = train_test_split(\n",
    "    X_selected, y, test_size=0.25, stratify=y, random_state=42\n",
    ")\n",
    "\n",
    "# Apply SMOTE to training data\n",
    "smote = SMOTE(random_state=42)\n",
    "X_train_resampled, y_train_resampled = smote.fit_resample(X_train, y_train)\n",
    "\n",
    "# Train model\n",
    "rf = RandomForestClassifier(n_estimators=100, random_state=42)\n",
    "rf.fit(X_train_resampled, y_train_resampled)\n",
    "\n",
    "# Evaluate\n",
    "y_pred = rf.predict(X_test)\n",
    "print(\"Confusion Matrix:\")\n",
    "print(confusion_matrix(y_test, y_pred))\n",
    "print(\"\\nClassification Report:\")\n",
    "print(classification_report(y_test, y_pred, target_names=[\"HER2−\", \"HER2+\"]))\n"
   ]
  },
  {
   "cell_type": "code",
   "execution_count": 42,
   "id": "090cb4e5",
   "metadata": {},
   "outputs": [
    {
     "name": "stdout",
     "output_type": "stream",
     "text": [
      "Confusion Matrix:\n",
      "[[788 132]\n",
      " [299 166]]\n",
      "\n",
      "Classification Report:\n",
      "              precision    recall  f1-score   support\n",
      "\n",
      "       HER2−       0.72      0.86      0.79       920\n",
      "       HER2+       0.56      0.36      0.44       465\n",
      "\n",
      "    accuracy                           0.69      1385\n",
      "   macro avg       0.64      0.61      0.61      1385\n",
      "weighted avg       0.67      0.69      0.67      1385\n",
      "\n"
     ]
    }
   ],
   "source": [
    "from sklearn.ensemble import RandomForestClassifier\n",
    "from sklearn.metrics import classification_report, confusion_matrix\n",
    "\n",
    "# Keep same resampled data from previous setup\n",
    "rf = RandomForestClassifier(\n",
    "    n_estimators=300,            # slightly more trees\n",
    "    max_depth=None,              # allow deep trees\n",
    "    max_features='sqrt',         # random subset of features per split\n",
    "    min_samples_leaf=2,          # reduces overfitting on noise\n",
    "    random_state=42\n",
    ")\n",
    "\n",
    "rf.fit(X_train_resampled, y_train_resampled)\n",
    "\n",
    "# Predict\n",
    "y_pred = rf.predict(X_test)\n",
    "\n",
    "# Evaluate\n",
    "print(\"Confusion Matrix:\")\n",
    "print(confusion_matrix(y_test, y_pred))\n",
    "print(\"\\nClassification Report:\")\n",
    "print(classification_report(y_test, y_pred, target_names=[\"HER2−\", \"HER2+\"]))"
   ]
  },
  {
   "cell_type": "markdown",
   "id": "140dcb49",
   "metadata": {},
   "source": [
    "# XGBoost"
   ]
  },
  {
   "cell_type": "code",
   "execution_count": 43,
   "id": "0c85de6b",
   "metadata": {},
   "outputs": [
    {
     "name": "stderr",
     "output_type": "stream",
     "text": [
      "/home/adarsh/Documents/MSLS internship/venv/lib/python3.12/site-packages/xgboost/training.py:183: UserWarning: [20:18:00] WARNING: /workspace/src/learner.cc:738: \n",
      "Parameters: { \"use_label_encoder\" } are not used.\n",
      "\n",
      "  bst.update(dtrain, iteration=i, fobj=obj)\n"
     ]
    }
   ],
   "source": [
    "from xgboost import XGBClassifier\n",
    "from sklearn.model_selection import train_test_split\n",
    "from imblearn.over_sampling import SMOTE\n",
    "from sklearn.metrics import classification_report, confusion_matrix\n",
    "\n",
    "# Step 1: Train/test split\n",
    "X_train, X_test, y_train, y_test = train_test_split(\n",
    "    X_selected, y, test_size=0.25, stratify=y, random_state=42\n",
    ")\n",
    "\n",
    "# Step 2: Apply SMOTE to training data only\n",
    "smote = SMOTE(random_state=42)\n",
    "X_train_resampled, y_train_resampled = smote.fit_resample(X_train, y_train)\n",
    "\n",
    "# Step 3: Final tuned XGBoost\n",
    "xgb_final = XGBClassifier(\n",
    "    n_estimators=1000,\n",
    "    max_depth=12,\n",
    "    learning_rate=0.015,\n",
    "    subsample=0.9,\n",
    "    colsample_bytree=0.9,\n",
    "    gamma=1,\n",
    "    min_child_weight=3,\n",
    "    scale_pos_weight=2,\n",
    "    use_label_encoder=False,\n",
    "    eval_metric='logloss',\n",
    "    random_state=42\n",
    ")\n",
    "\n",
    "# Step 4: Fit and predict\n",
    "xgb_final.fit(X_train_resampled, y_train_resampled)\n",
    "y_pred = xgb_final.predict(X_test)\n"
   ]
  },
  {
   "cell_type": "markdown",
   "id": "9a2a7077",
   "metadata": {},
   "source": [
    "# Final Report"
   ]
  },
  {
   "cell_type": "code",
   "execution_count": null,
   "id": "81b29812",
   "metadata": {},
   "outputs": [
    {
     "name": "stdout",
     "output_type": "stream",
     "text": [
      "Confusion Matrix:\n",
      "[[795 125]\n",
      " [139 326]]\n",
      "\n",
      "Classification Report:\n",
      "              precision    recall  f1-score   support\n",
      "\n",
      "       HER2−       0.85      0.86      0.86       920\n",
      "       HER2+       0.72      0.70      0.71       465\n",
      "\n",
      "    accuracy                           0.81      1385\n",
      "   macro avg       0.79      0.78      0.78      1385\n",
      "weighted avg       0.81      0.81      0.81      1385\n",
      "\n"
     ]
    },
    {
     "data": {
      "image/png": "[encoded data removed]",
      "text/plain": [
       "<Figure size 600x500 with 2 Axes>"
      ]
     },
     "metadata": {},
     "output_type": "display_data"
    }
   ],
   "source": [
    "import matplotlib.pyplot as plt\n",
    "import seaborn as sns\n",
    "from sklearn.metrics import classification_report, confusion_matrix\n",
    "\n",
    "y_true = y_test\n",
    "y_pred = xgb_final.predict(X_test)\n",
    "\n",
    "cm = confusion_matrix(y_true, y_pred)\n",
    "labels = [\"HER2−\", \"HER2+\"]\n",
    "\n",
    "print(\"Confusion Matrix:\")\n",
    "print(cm)\n",
    "\n",
    "print(\"\\nClassification Report:\")\n",
    "print(classification_report(y_true, y_pred, target_names=labels))\n",
    "\n",
    "plt.figure(figsize=(6, 5))\n",
    "sns.heatmap(cm, annot=True, fmt=\"d\", cmap=\"Blues\",\n",
    "            xticklabels=labels, yticklabels=labels)\n",
    "plt.xlabel(\"Predicted Label\")\n",
    "plt.ylabel(\"True Label\")\n",
    "plt.title(\"Confusion Matrix\")\n",
    "plt.tight_layout()\n",
    "plt.show()\n"
   ]
  },
  {
   "cell_type": "code",
   "execution_count": null,
   "id": "560682ba",
   "metadata": {},
   "outputs": [],
   "source": []
  }
 ],
 "metadata": {
  "kernelspec": {
   "display_name": "venv",
   "language": "python",
   "name": "python3"
  },
  "language_info": {
   "codemirror_mode": {
    "name": "ipython",
    "version": 3
   },
   "file_extension": ".py",
   "mimetype": "text/x-python",
   "name": "python",
   "nbconvert_exporter": "python",
   "pygments_lexer": "ipython3",
   "version": "3.12.3"
  }
 },
 "nbformat": 4,
 "nbformat_minor": 5
}
